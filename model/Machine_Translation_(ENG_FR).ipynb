{
  "cells": [
    {
      "cell_type": "markdown",
      "metadata": {
        "id": "xiC75uo6u_Of"
      },
      "source": [
        "## Machine Translation Using a Seq2Seq Architecture\n",
        "\n",
        "---\n",
        "The goal of this colab is to get you more familiar with the Seq2Seq models and their challenges. For this reason, you will be working on machine translation problem where we would have a sentence as input (in english), and the output is gonna be the translated sentence (in french). So just like what happens with Google Translate.\n"
      ]
    },
    {
      "cell_type": "markdown",
      "metadata": {
        "id": "TeK4LPupvg_c"
      },
      "source": [
        "**Just to give you a heads up:** We won't be having a model performing like Google translate since that requires much more training data, but at least we will have an idea about how Google Translate works and the challenges that exist with a translation problem.  "
      ]
    },
    {
      "cell_type": "markdown",
      "metadata": {
        "id": "SBTvDTzBv293"
      },
      "source": [
        "## Importing Libraries"
      ]
    },
    {
      "cell_type": "markdown",
      "metadata": {
        "id": "4_j1ZzS3v6N3"
      },
      "source": [
        "We start by importing numpy and pandas and then we can add the rest"
      ]
    },
    {
      "cell_type": "code",
      "execution_count": 1,
      "metadata": {
        "id": "n0IARXAX1e1m"
      },
      "outputs": [],
      "source": [
        "import pandas as pd\n",
        "import numpy as np"
      ]
    },
    {
      "cell_type": "markdown",
      "metadata": {
        "id": "i3hLN42axOjn"
      },
      "source": [
        "## Getting the data"
      ]
    },
    {
      "cell_type": "markdown",
      "metadata": {
        "id": "BaPr0N8cwGAv"
      },
      "source": [
        "We read the english sentences in a dataframe named \"english\", and the french sentences in a dataframe named \"french\""
      ]
    },
    {
      "cell_type": "code",
      "execution_count": 3,
      "metadata": {
        "colab": {
          "base_uri": "https://localhost:8080/",
          "height": 206
        },
        "id": "kFj8gkP01lGT",
        "outputId": "f95976e3-8f38-4b1c-f463-431df8ca1766"
      },
      "outputs": [
        {
          "data": {
            "text/html": [
              "\n",
              "  <div id=\"df-49a9c877-c4e9-49f5-b7b1-c0cb69cf2754\">\n",
              "    <div class=\"colab-df-container\">\n",
              "      <div>\n",
              "<style scoped>\n",
              "    .dataframe tbody tr th:only-of-type {\n",
              "        vertical-align: middle;\n",
              "    }\n",
              "\n",
              "    .dataframe tbody tr th {\n",
              "        vertical-align: top;\n",
              "    }\n",
              "\n",
              "    .dataframe thead th {\n",
              "        text-align: right;\n",
              "    }\n",
              "</style>\n",
              "<table border=\"1\" class=\"dataframe\">\n",
              "  <thead>\n",
              "    <tr style=\"text-align: right;\">\n",
              "      <th></th>\n",
              "      <th>eng_sentence</th>\n",
              "    </tr>\n",
              "  </thead>\n",
              "  <tbody>\n",
              "    <tr>\n",
              "      <th>0</th>\n",
              "      <td>new jersey is sometimes quiet during autumn , ...</td>\n",
              "    </tr>\n",
              "    <tr>\n",
              "      <th>1</th>\n",
              "      <td>the united states is usually chilly during jul...</td>\n",
              "    </tr>\n",
              "    <tr>\n",
              "      <th>2</th>\n",
              "      <td>california is usually quiet during march , and...</td>\n",
              "    </tr>\n",
              "    <tr>\n",
              "      <th>3</th>\n",
              "      <td>the united states is sometimes mild during jun...</td>\n",
              "    </tr>\n",
              "    <tr>\n",
              "      <th>4</th>\n",
              "      <td>your least liked fruit is the grape , but my l...</td>\n",
              "    </tr>\n",
              "  </tbody>\n",
              "</table>\n",
              "</div>\n",
              "      <button class=\"colab-df-convert\" onclick=\"convertToInteractive('df-49a9c877-c4e9-49f5-b7b1-c0cb69cf2754')\"\n",
              "              title=\"Convert this dataframe to an interactive table.\"\n",
              "              style=\"display:none;\">\n",
              "        \n",
              "  <svg xmlns=\"http://www.w3.org/2000/svg\" height=\"24px\"viewBox=\"0 0 24 24\"\n",
              "       width=\"24px\">\n",
              "    <path d=\"M0 0h24v24H0V0z\" fill=\"none\"/>\n",
              "    <path d=\"M18.56 5.44l.94 2.06.94-2.06 2.06-.94-2.06-.94-.94-2.06-.94 2.06-2.06.94zm-11 1L8.5 8.5l.94-2.06 2.06-.94-2.06-.94L8.5 2.5l-.94 2.06-2.06.94zm10 10l.94 2.06.94-2.06 2.06-.94-2.06-.94-.94-2.06-.94 2.06-2.06.94z\"/><path d=\"M17.41 7.96l-1.37-1.37c-.4-.4-.92-.59-1.43-.59-.52 0-1.04.2-1.43.59L10.3 9.45l-7.72 7.72c-.78.78-.78 2.05 0 2.83L4 21.41c.39.39.9.59 1.41.59.51 0 1.02-.2 1.41-.59l7.78-7.78 2.81-2.81c.8-.78.8-2.07 0-2.86zM5.41 20L4 18.59l7.72-7.72 1.47 1.35L5.41 20z\"/>\n",
              "  </svg>\n",
              "      </button>\n",
              "      \n",
              "  <style>\n",
              "    .colab-df-container {\n",
              "      display:flex;\n",
              "      flex-wrap:wrap;\n",
              "      gap: 12px;\n",
              "    }\n",
              "\n",
              "    .colab-df-convert {\n",
              "      background-color: #E8F0FE;\n",
              "      border: none;\n",
              "      border-radius: 50%;\n",
              "      cursor: pointer;\n",
              "      display: none;\n",
              "      fill: #1967D2;\n",
              "      height: 32px;\n",
              "      padding: 0 0 0 0;\n",
              "      width: 32px;\n",
              "    }\n",
              "\n",
              "    .colab-df-convert:hover {\n",
              "      background-color: #E2EBFA;\n",
              "      box-shadow: 0px 1px 2px rgba(60, 64, 67, 0.3), 0px 1px 3px 1px rgba(60, 64, 67, 0.15);\n",
              "      fill: #174EA6;\n",
              "    }\n",
              "\n",
              "    [theme=dark] .colab-df-convert {\n",
              "      background-color: #3B4455;\n",
              "      fill: #D2E3FC;\n",
              "    }\n",
              "\n",
              "    [theme=dark] .colab-df-convert:hover {\n",
              "      background-color: #434B5C;\n",
              "      box-shadow: 0px 1px 3px 1px rgba(0, 0, 0, 0.15);\n",
              "      filter: drop-shadow(0px 1px 2px rgba(0, 0, 0, 0.3));\n",
              "      fill: #FFFFFF;\n",
              "    }\n",
              "  </style>\n",
              "\n",
              "      <script>\n",
              "        const buttonEl =\n",
              "          document.querySelector('#df-49a9c877-c4e9-49f5-b7b1-c0cb69cf2754 button.colab-df-convert');\n",
              "        buttonEl.style.display =\n",
              "          google.colab.kernel.accessAllowed ? 'block' : 'none';\n",
              "\n",
              "        async function convertToInteractive(key) {\n",
              "          const element = document.querySelector('#df-49a9c877-c4e9-49f5-b7b1-c0cb69cf2754');\n",
              "          const dataTable =\n",
              "            await google.colab.kernel.invokeFunction('convertToInteractive',\n",
              "                                                     [key], {});\n",
              "          if (!dataTable) return;\n",
              "\n",
              "          const docLinkHtml = 'Like what you see? Visit the ' +\n",
              "            '<a target=\"_blank\" href=https://colab.research.google.com/notebooks/data_table.ipynb>data table notebook</a>'\n",
              "            + ' to learn more about interactive tables.';\n",
              "          element.innerHTML = '';\n",
              "          dataTable['output_type'] = 'display_data';\n",
              "          await google.colab.output.renderOutput(dataTable, element);\n",
              "          const docLink = document.createElement('div');\n",
              "          docLink.innerHTML = docLinkHtml;\n",
              "          element.appendChild(docLink);\n",
              "        }\n",
              "      </script>\n",
              "    </div>\n",
              "  </div>\n",
              "  "
            ],
            "text/plain": [
              "                                        eng_sentence\n",
              "0  new jersey is sometimes quiet during autumn , ...\n",
              "1  the united states is usually chilly during jul...\n",
              "2  california is usually quiet during march , and...\n",
              "3  the united states is sometimes mild during jun...\n",
              "4  your least liked fruit is the grape , but my l..."
            ]
          },
          "execution_count": 3,
          "metadata": {},
          "output_type": "execute_result"
        }
      ],
      "source": [
        "english = pd.read_csv('data/en.csv', names=['eng_sentence'])\n",
        "english.head()"
      ]
    },
    {
      "cell_type": "code",
      "execution_count": 4,
      "metadata": {
        "colab": {
          "base_uri": "https://localhost:8080/",
          "height": 206
        },
        "id": "P4A7ZKt32A7s",
        "outputId": "5cac703a-54e5-474b-c9e3-58226d81c047"
      },
      "outputs": [
        {
          "data": {
            "text/html": [
              "\n",
              "  <div id=\"df-be53c03a-86a2-4b35-9208-d642308c0b0d\">\n",
              "    <div class=\"colab-df-container\">\n",
              "      <div>\n",
              "<style scoped>\n",
              "    .dataframe tbody tr th:only-of-type {\n",
              "        vertical-align: middle;\n",
              "    }\n",
              "\n",
              "    .dataframe tbody tr th {\n",
              "        vertical-align: top;\n",
              "    }\n",
              "\n",
              "    .dataframe thead th {\n",
              "        text-align: right;\n",
              "    }\n",
              "</style>\n",
              "<table border=\"1\" class=\"dataframe\">\n",
              "  <thead>\n",
              "    <tr style=\"text-align: right;\">\n",
              "      <th></th>\n",
              "      <th>fr_sentence</th>\n",
              "    </tr>\n",
              "  </thead>\n",
              "  <tbody>\n",
              "    <tr>\n",
              "      <th>0</th>\n",
              "      <td>new jersey est parfois calme pendant l' automn...</td>\n",
              "    </tr>\n",
              "    <tr>\n",
              "      <th>1</th>\n",
              "      <td>les états-unis est généralement froid en juill...</td>\n",
              "    </tr>\n",
              "    <tr>\n",
              "      <th>2</th>\n",
              "      <td>california est généralement calme en mars , et...</td>\n",
              "    </tr>\n",
              "    <tr>\n",
              "      <th>3</th>\n",
              "      <td>les états-unis est parfois légère en juin , et...</td>\n",
              "    </tr>\n",
              "    <tr>\n",
              "      <th>4</th>\n",
              "      <td>votre moins aimé fruit est le raisin , mais mo...</td>\n",
              "    </tr>\n",
              "  </tbody>\n",
              "</table>\n",
              "</div>\n",
              "      <button class=\"colab-df-convert\" onclick=\"convertToInteractive('df-be53c03a-86a2-4b35-9208-d642308c0b0d')\"\n",
              "              title=\"Convert this dataframe to an interactive table.\"\n",
              "              style=\"display:none;\">\n",
              "        \n",
              "  <svg xmlns=\"http://www.w3.org/2000/svg\" height=\"24px\"viewBox=\"0 0 24 24\"\n",
              "       width=\"24px\">\n",
              "    <path d=\"M0 0h24v24H0V0z\" fill=\"none\"/>\n",
              "    <path d=\"M18.56 5.44l.94 2.06.94-2.06 2.06-.94-2.06-.94-.94-2.06-.94 2.06-2.06.94zm-11 1L8.5 8.5l.94-2.06 2.06-.94-2.06-.94L8.5 2.5l-.94 2.06-2.06.94zm10 10l.94 2.06.94-2.06 2.06-.94-2.06-.94-.94-2.06-.94 2.06-2.06.94z\"/><path d=\"M17.41 7.96l-1.37-1.37c-.4-.4-.92-.59-1.43-.59-.52 0-1.04.2-1.43.59L10.3 9.45l-7.72 7.72c-.78.78-.78 2.05 0 2.83L4 21.41c.39.39.9.59 1.41.59.51 0 1.02-.2 1.41-.59l7.78-7.78 2.81-2.81c.8-.78.8-2.07 0-2.86zM5.41 20L4 18.59l7.72-7.72 1.47 1.35L5.41 20z\"/>\n",
              "  </svg>\n",
              "      </button>\n",
              "      \n",
              "  <style>\n",
              "    .colab-df-container {\n",
              "      display:flex;\n",
              "      flex-wrap:wrap;\n",
              "      gap: 12px;\n",
              "    }\n",
              "\n",
              "    .colab-df-convert {\n",
              "      background-color: #E8F0FE;\n",
              "      border: none;\n",
              "      border-radius: 50%;\n",
              "      cursor: pointer;\n",
              "      display: none;\n",
              "      fill: #1967D2;\n",
              "      height: 32px;\n",
              "      padding: 0 0 0 0;\n",
              "      width: 32px;\n",
              "    }\n",
              "\n",
              "    .colab-df-convert:hover {\n",
              "      background-color: #E2EBFA;\n",
              "      box-shadow: 0px 1px 2px rgba(60, 64, 67, 0.3), 0px 1px 3px 1px rgba(60, 64, 67, 0.15);\n",
              "      fill: #174EA6;\n",
              "    }\n",
              "\n",
              "    [theme=dark] .colab-df-convert {\n",
              "      background-color: #3B4455;\n",
              "      fill: #D2E3FC;\n",
              "    }\n",
              "\n",
              "    [theme=dark] .colab-df-convert:hover {\n",
              "      background-color: #434B5C;\n",
              "      box-shadow: 0px 1px 3px 1px rgba(0, 0, 0, 0.15);\n",
              "      filter: drop-shadow(0px 1px 2px rgba(0, 0, 0, 0.3));\n",
              "      fill: #FFFFFF;\n",
              "    }\n",
              "  </style>\n",
              "\n",
              "      <script>\n",
              "        const buttonEl =\n",
              "          document.querySelector('#df-be53c03a-86a2-4b35-9208-d642308c0b0d button.colab-df-convert');\n",
              "        buttonEl.style.display =\n",
              "          google.colab.kernel.accessAllowed ? 'block' : 'none';\n",
              "\n",
              "        async function convertToInteractive(key) {\n",
              "          const element = document.querySelector('#df-be53c03a-86a2-4b35-9208-d642308c0b0d');\n",
              "          const dataTable =\n",
              "            await google.colab.kernel.invokeFunction('convertToInteractive',\n",
              "                                                     [key], {});\n",
              "          if (!dataTable) return;\n",
              "\n",
              "          const docLinkHtml = 'Like what you see? Visit the ' +\n",
              "            '<a target=\"_blank\" href=https://colab.research.google.com/notebooks/data_table.ipynb>data table notebook</a>'\n",
              "            + ' to learn more about interactive tables.';\n",
              "          element.innerHTML = '';\n",
              "          dataTable['output_type'] = 'display_data';\n",
              "          await google.colab.output.renderOutput(dataTable, element);\n",
              "          const docLink = document.createElement('div');\n",
              "          docLink.innerHTML = docLinkHtml;\n",
              "          element.appendChild(docLink);\n",
              "        }\n",
              "      </script>\n",
              "    </div>\n",
              "  </div>\n",
              "  "
            ],
            "text/plain": [
              "                                         fr_sentence\n",
              "0  new jersey est parfois calme pendant l' automn...\n",
              "1  les états-unis est généralement froid en juill...\n",
              "2  california est généralement calme en mars , et...\n",
              "3  les états-unis est parfois légère en juin , et...\n",
              "4  votre moins aimé fruit est le raisin , mais mo..."
            ]
          },
          "execution_count": 4,
          "metadata": {},
          "output_type": "execute_result"
        }
      ],
      "source": [
        "french = pd.read_csv('data/fr.csv', names=['fr_sentence'])\n",
        "french.head()"
      ]
    },
    {
      "cell_type": "markdown",
      "metadata": {
        "id": "jr8OO1OhwSp4"
      },
      "source": [
        "**How many sentences does each of the files contain?**"
      ]
    },
    {
      "cell_type": "code",
      "execution_count": 5,
      "metadata": {
        "colab": {
          "base_uri": "https://localhost:8080/"
        },
        "id": "XhWJP-b02HKq",
        "outputId": "786f88ed-0b0a-4824-f456-a0ae0de00574"
      },
      "outputs": [
        {
          "name": "stdout",
          "output_type": "stream",
          "text": [
            "The english file contains 137860 sentences and the french file contains 137860 sentences.\n"
          ]
        }
      ],
      "source": [
        "print('The english file contains {} sentences and the french file contains {} sentences.'.format(english.shape[0], french.shape[0]))"
      ]
    },
    {
      "cell_type": "markdown",
      "metadata": {
        "id": "ITGJN5tIwkDO"
      },
      "source": [
        "Now let us concatenate the 2 dataframes into one dataframe that we call **df** where one column has the english senetnces and the other has the french sentences"
      ]
    },
    {
      "cell_type": "code",
      "execution_count": 6,
      "metadata": {
        "colab": {
          "base_uri": "https://localhost:8080/",
          "height": 206
        },
        "id": "-ZXxahsB2njn",
        "outputId": "23080b86-0779-49fb-ab7f-38e31088020d"
      },
      "outputs": [
        {
          "data": {
            "text/html": [
              "\n",
              "  <div id=\"df-53507041-868e-47e6-a3bd-d1406dda8ffb\">\n",
              "    <div class=\"colab-df-container\">\n",
              "      <div>\n",
              "<style scoped>\n",
              "    .dataframe tbody tr th:only-of-type {\n",
              "        vertical-align: middle;\n",
              "    }\n",
              "\n",
              "    .dataframe tbody tr th {\n",
              "        vertical-align: top;\n",
              "    }\n",
              "\n",
              "    .dataframe thead th {\n",
              "        text-align: right;\n",
              "    }\n",
              "</style>\n",
              "<table border=\"1\" class=\"dataframe\">\n",
              "  <thead>\n",
              "    <tr style=\"text-align: right;\">\n",
              "      <th></th>\n",
              "      <th>eng_sentence</th>\n",
              "      <th>fr_sentence</th>\n",
              "    </tr>\n",
              "  </thead>\n",
              "  <tbody>\n",
              "    <tr>\n",
              "      <th>0</th>\n",
              "      <td>new jersey is sometimes quiet during autumn , ...</td>\n",
              "      <td>new jersey est parfois calme pendant l' automn...</td>\n",
              "    </tr>\n",
              "    <tr>\n",
              "      <th>1</th>\n",
              "      <td>the united states is usually chilly during jul...</td>\n",
              "      <td>les états-unis est généralement froid en juill...</td>\n",
              "    </tr>\n",
              "    <tr>\n",
              "      <th>2</th>\n",
              "      <td>california is usually quiet during march , and...</td>\n",
              "      <td>california est généralement calme en mars , et...</td>\n",
              "    </tr>\n",
              "    <tr>\n",
              "      <th>3</th>\n",
              "      <td>the united states is sometimes mild during jun...</td>\n",
              "      <td>les états-unis est parfois légère en juin , et...</td>\n",
              "    </tr>\n",
              "    <tr>\n",
              "      <th>4</th>\n",
              "      <td>your least liked fruit is the grape , but my l...</td>\n",
              "      <td>votre moins aimé fruit est le raisin , mais mo...</td>\n",
              "    </tr>\n",
              "  </tbody>\n",
              "</table>\n",
              "</div>\n",
              "      <button class=\"colab-df-convert\" onclick=\"convertToInteractive('df-53507041-868e-47e6-a3bd-d1406dda8ffb')\"\n",
              "              title=\"Convert this dataframe to an interactive table.\"\n",
              "              style=\"display:none;\">\n",
              "        \n",
              "  <svg xmlns=\"http://www.w3.org/2000/svg\" height=\"24px\"viewBox=\"0 0 24 24\"\n",
              "       width=\"24px\">\n",
              "    <path d=\"M0 0h24v24H0V0z\" fill=\"none\"/>\n",
              "    <path d=\"M18.56 5.44l.94 2.06.94-2.06 2.06-.94-2.06-.94-.94-2.06-.94 2.06-2.06.94zm-11 1L8.5 8.5l.94-2.06 2.06-.94-2.06-.94L8.5 2.5l-.94 2.06-2.06.94zm10 10l.94 2.06.94-2.06 2.06-.94-2.06-.94-.94-2.06-.94 2.06-2.06.94z\"/><path d=\"M17.41 7.96l-1.37-1.37c-.4-.4-.92-.59-1.43-.59-.52 0-1.04.2-1.43.59L10.3 9.45l-7.72 7.72c-.78.78-.78 2.05 0 2.83L4 21.41c.39.39.9.59 1.41.59.51 0 1.02-.2 1.41-.59l7.78-7.78 2.81-2.81c.8-.78.8-2.07 0-2.86zM5.41 20L4 18.59l7.72-7.72 1.47 1.35L5.41 20z\"/>\n",
              "  </svg>\n",
              "      </button>\n",
              "      \n",
              "  <style>\n",
              "    .colab-df-container {\n",
              "      display:flex;\n",
              "      flex-wrap:wrap;\n",
              "      gap: 12px;\n",
              "    }\n",
              "\n",
              "    .colab-df-convert {\n",
              "      background-color: #E8F0FE;\n",
              "      border: none;\n",
              "      border-radius: 50%;\n",
              "      cursor: pointer;\n",
              "      display: none;\n",
              "      fill: #1967D2;\n",
              "      height: 32px;\n",
              "      padding: 0 0 0 0;\n",
              "      width: 32px;\n",
              "    }\n",
              "\n",
              "    .colab-df-convert:hover {\n",
              "      background-color: #E2EBFA;\n",
              "      box-shadow: 0px 1px 2px rgba(60, 64, 67, 0.3), 0px 1px 3px 1px rgba(60, 64, 67, 0.15);\n",
              "      fill: #174EA6;\n",
              "    }\n",
              "\n",
              "    [theme=dark] .colab-df-convert {\n",
              "      background-color: #3B4455;\n",
              "      fill: #D2E3FC;\n",
              "    }\n",
              "\n",
              "    [theme=dark] .colab-df-convert:hover {\n",
              "      background-color: #434B5C;\n",
              "      box-shadow: 0px 1px 3px 1px rgba(0, 0, 0, 0.15);\n",
              "      filter: drop-shadow(0px 1px 2px rgba(0, 0, 0, 0.3));\n",
              "      fill: #FFFFFF;\n",
              "    }\n",
              "  </style>\n",
              "\n",
              "      <script>\n",
              "        const buttonEl =\n",
              "          document.querySelector('#df-53507041-868e-47e6-a3bd-d1406dda8ffb button.colab-df-convert');\n",
              "        buttonEl.style.display =\n",
              "          google.colab.kernel.accessAllowed ? 'block' : 'none';\n",
              "\n",
              "        async function convertToInteractive(key) {\n",
              "          const element = document.querySelector('#df-53507041-868e-47e6-a3bd-d1406dda8ffb');\n",
              "          const dataTable =\n",
              "            await google.colab.kernel.invokeFunction('convertToInteractive',\n",
              "                                                     [key], {});\n",
              "          if (!dataTable) return;\n",
              "\n",
              "          const docLinkHtml = 'Like what you see? Visit the ' +\n",
              "            '<a target=\"_blank\" href=https://colab.research.google.com/notebooks/data_table.ipynb>data table notebook</a>'\n",
              "            + ' to learn more about interactive tables.';\n",
              "          element.innerHTML = '';\n",
              "          dataTable['output_type'] = 'display_data';\n",
              "          await google.colab.output.renderOutput(dataTable, element);\n",
              "          const docLink = document.createElement('div');\n",
              "          docLink.innerHTML = docLinkHtml;\n",
              "          element.appendChild(docLink);\n",
              "        }\n",
              "      </script>\n",
              "    </div>\n",
              "  </div>\n",
              "  "
            ],
            "text/plain": [
              "                                        eng_sentence  \\\n",
              "0  new jersey is sometimes quiet during autumn , ...   \n",
              "1  the united states is usually chilly during jul...   \n",
              "2  california is usually quiet during march , and...   \n",
              "3  the united states is sometimes mild during jun...   \n",
              "4  your least liked fruit is the grape , but my l...   \n",
              "\n",
              "                                         fr_sentence  \n",
              "0  new jersey est parfois calme pendant l' automn...  \n",
              "1  les états-unis est généralement froid en juill...  \n",
              "2  california est généralement calme en mars , et...  \n",
              "3  les états-unis est parfois légère en juin , et...  \n",
              "4  votre moins aimé fruit est le raisin , mais mo...  "
            ]
          },
          "execution_count": 6,
          "metadata": {},
          "output_type": "execute_result"
        }
      ],
      "source": [
        "df = pd.concat([english, french], axis=1)\n",
        "df.head()"
      ]
    },
    {
      "cell_type": "markdown",
      "metadata": {
        "id": "nAr_caXkwwE7"
      },
      "source": [
        "Let's name the columns as **English** and **French** so that we access them easier."
      ]
    },
    {
      "cell_type": "code",
      "execution_count": 7,
      "metadata": {
        "colab": {
          "base_uri": "https://localhost:8080/",
          "height": 206
        },
        "id": "eOHiQDXx3jFS",
        "outputId": "96fcd1bd-56be-44af-b5d0-b8e62c1cfb7d"
      },
      "outputs": [
        {
          "data": {
            "text/html": [
              "\n",
              "  <div id=\"df-60d81b44-a8f4-46a4-8dff-75765e77e014\">\n",
              "    <div class=\"colab-df-container\">\n",
              "      <div>\n",
              "<style scoped>\n",
              "    .dataframe tbody tr th:only-of-type {\n",
              "        vertical-align: middle;\n",
              "    }\n",
              "\n",
              "    .dataframe tbody tr th {\n",
              "        vertical-align: top;\n",
              "    }\n",
              "\n",
              "    .dataframe thead th {\n",
              "        text-align: right;\n",
              "    }\n",
              "</style>\n",
              "<table border=\"1\" class=\"dataframe\">\n",
              "  <thead>\n",
              "    <tr style=\"text-align: right;\">\n",
              "      <th></th>\n",
              "      <th>english</th>\n",
              "      <th>french</th>\n",
              "    </tr>\n",
              "  </thead>\n",
              "  <tbody>\n",
              "    <tr>\n",
              "      <th>0</th>\n",
              "      <td>new jersey is sometimes quiet during autumn , ...</td>\n",
              "      <td>new jersey est parfois calme pendant l' automn...</td>\n",
              "    </tr>\n",
              "    <tr>\n",
              "      <th>1</th>\n",
              "      <td>the united states is usually chilly during jul...</td>\n",
              "      <td>les états-unis est généralement froid en juill...</td>\n",
              "    </tr>\n",
              "    <tr>\n",
              "      <th>2</th>\n",
              "      <td>california is usually quiet during march , and...</td>\n",
              "      <td>california est généralement calme en mars , et...</td>\n",
              "    </tr>\n",
              "    <tr>\n",
              "      <th>3</th>\n",
              "      <td>the united states is sometimes mild during jun...</td>\n",
              "      <td>les états-unis est parfois légère en juin , et...</td>\n",
              "    </tr>\n",
              "    <tr>\n",
              "      <th>4</th>\n",
              "      <td>your least liked fruit is the grape , but my l...</td>\n",
              "      <td>votre moins aimé fruit est le raisin , mais mo...</td>\n",
              "    </tr>\n",
              "  </tbody>\n",
              "</table>\n",
              "</div>\n",
              "      <button class=\"colab-df-convert\" onclick=\"convertToInteractive('df-60d81b44-a8f4-46a4-8dff-75765e77e014')\"\n",
              "              title=\"Convert this dataframe to an interactive table.\"\n",
              "              style=\"display:none;\">\n",
              "        \n",
              "  <svg xmlns=\"http://www.w3.org/2000/svg\" height=\"24px\"viewBox=\"0 0 24 24\"\n",
              "       width=\"24px\">\n",
              "    <path d=\"M0 0h24v24H0V0z\" fill=\"none\"/>\n",
              "    <path d=\"M18.56 5.44l.94 2.06.94-2.06 2.06-.94-2.06-.94-.94-2.06-.94 2.06-2.06.94zm-11 1L8.5 8.5l.94-2.06 2.06-.94-2.06-.94L8.5 2.5l-.94 2.06-2.06.94zm10 10l.94 2.06.94-2.06 2.06-.94-2.06-.94-.94-2.06-.94 2.06-2.06.94z\"/><path d=\"M17.41 7.96l-1.37-1.37c-.4-.4-.92-.59-1.43-.59-.52 0-1.04.2-1.43.59L10.3 9.45l-7.72 7.72c-.78.78-.78 2.05 0 2.83L4 21.41c.39.39.9.59 1.41.59.51 0 1.02-.2 1.41-.59l7.78-7.78 2.81-2.81c.8-.78.8-2.07 0-2.86zM5.41 20L4 18.59l7.72-7.72 1.47 1.35L5.41 20z\"/>\n",
              "  </svg>\n",
              "      </button>\n",
              "      \n",
              "  <style>\n",
              "    .colab-df-container {\n",
              "      display:flex;\n",
              "      flex-wrap:wrap;\n",
              "      gap: 12px;\n",
              "    }\n",
              "\n",
              "    .colab-df-convert {\n",
              "      background-color: #E8F0FE;\n",
              "      border: none;\n",
              "      border-radius: 50%;\n",
              "      cursor: pointer;\n",
              "      display: none;\n",
              "      fill: #1967D2;\n",
              "      height: 32px;\n",
              "      padding: 0 0 0 0;\n",
              "      width: 32px;\n",
              "    }\n",
              "\n",
              "    .colab-df-convert:hover {\n",
              "      background-color: #E2EBFA;\n",
              "      box-shadow: 0px 1px 2px rgba(60, 64, 67, 0.3), 0px 1px 3px 1px rgba(60, 64, 67, 0.15);\n",
              "      fill: #174EA6;\n",
              "    }\n",
              "\n",
              "    [theme=dark] .colab-df-convert {\n",
              "      background-color: #3B4455;\n",
              "      fill: #D2E3FC;\n",
              "    }\n",
              "\n",
              "    [theme=dark] .colab-df-convert:hover {\n",
              "      background-color: #434B5C;\n",
              "      box-shadow: 0px 1px 3px 1px rgba(0, 0, 0, 0.15);\n",
              "      filter: drop-shadow(0px 1px 2px rgba(0, 0, 0, 0.3));\n",
              "      fill: #FFFFFF;\n",
              "    }\n",
              "  </style>\n",
              "\n",
              "      <script>\n",
              "        const buttonEl =\n",
              "          document.querySelector('#df-60d81b44-a8f4-46a4-8dff-75765e77e014 button.colab-df-convert');\n",
              "        buttonEl.style.display =\n",
              "          google.colab.kernel.accessAllowed ? 'block' : 'none';\n",
              "\n",
              "        async function convertToInteractive(key) {\n",
              "          const element = document.querySelector('#df-60d81b44-a8f4-46a4-8dff-75765e77e014');\n",
              "          const dataTable =\n",
              "            await google.colab.kernel.invokeFunction('convertToInteractive',\n",
              "                                                     [key], {});\n",
              "          if (!dataTable) return;\n",
              "\n",
              "          const docLinkHtml = 'Like what you see? Visit the ' +\n",
              "            '<a target=\"_blank\" href=https://colab.research.google.com/notebooks/data_table.ipynb>data table notebook</a>'\n",
              "            + ' to learn more about interactive tables.';\n",
              "          element.innerHTML = '';\n",
              "          dataTable['output_type'] = 'display_data';\n",
              "          await google.colab.output.renderOutput(dataTable, element);\n",
              "          const docLink = document.createElement('div');\n",
              "          docLink.innerHTML = docLinkHtml;\n",
              "          element.appendChild(docLink);\n",
              "        }\n",
              "      </script>\n",
              "    </div>\n",
              "  </div>\n",
              "  "
            ],
            "text/plain": [
              "                                             english  \\\n",
              "0  new jersey is sometimes quiet during autumn , ...   \n",
              "1  the united states is usually chilly during jul...   \n",
              "2  california is usually quiet during march , and...   \n",
              "3  the united states is sometimes mild during jun...   \n",
              "4  your least liked fruit is the grape , but my l...   \n",
              "\n",
              "                                              french  \n",
              "0  new jersey est parfois calme pendant l' automn...  \n",
              "1  les états-unis est généralement froid en juill...  \n",
              "2  california est généralement calme en mars , et...  \n",
              "3  les états-unis est parfois légère en juin , et...  \n",
              "4  votre moins aimé fruit est le raisin , mais mo...  "
            ]
          },
          "execution_count": 7,
          "metadata": {},
          "output_type": "execute_result"
        }
      ],
      "source": [
        "df.rename(columns={'eng_sentence': 'english', 'fr_sentence': 'french'}, inplace=True)\n",
        "df.head()"
      ]
    },
    {
      "cell_type": "markdown",
      "metadata": {
        "id": "4xc1TsEHw9yC"
      },
      "source": [
        "Pick a sentence and print it in both languages"
      ]
    },
    {
      "cell_type": "code",
      "execution_count": 8,
      "metadata": {
        "colab": {
          "base_uri": "https://localhost:8080/"
        },
        "id": "QuRVWch23ujo",
        "outputId": "35fdc441-71e5-4732-f93e-9d6fd37916a0"
      },
      "outputs": [
        {
          "name": "stdout",
          "output_type": "stream",
          "text": [
            "English: new jersey is sometimes quiet during autumn , and it is snowy in april .\n",
            "French: new jersey est parfois calme pendant l' automne , et il est neigeux en avril .\n"
          ]
        }
      ],
      "source": [
        "print(\"English: \" + df['english'][0] + \"\\nFrench: \" + df['french'][0])"
      ]
    },
    {
      "cell_type": "markdown",
      "metadata": {
        "id": "FQjXYP1txFCi"
      },
      "source": [
        "##Cleaning Data"
      ]
    },
    {
      "cell_type": "markdown",
      "metadata": {
        "id": "xgz6jIoVxHUF"
      },
      "source": [
        "The data that we have is almost clean as we can see, we just need to remove the punctuations inside of it."
      ]
    },
    {
      "cell_type": "code",
      "execution_count": 9,
      "metadata": {
        "colab": {
          "base_uri": "https://localhost:8080/"
        },
        "id": "6YYOt5QftcFI",
        "outputId": "b5038912-76d7-46dc-c5ff-f9317ac2bbc6"
      },
      "outputs": [
        {
          "name": "stderr",
          "output_type": "stream",
          "text": [
            "/usr/local/lib/python3.7/dist-packages/ipykernel_launcher.py:3: FutureWarning: The default value of regex will change from True to False in a future version.\n",
            "  This is separate from the ipykernel package so we can avoid doing imports until\n",
            "/usr/local/lib/python3.7/dist-packages/ipykernel_launcher.py:5: FutureWarning: The default value of regex will change from True to False in a future version.\n",
            "  \"\"\"\n"
          ]
        }
      ],
      "source": [
        "import re\n",
        "df['english'] = df['english'].str.replace('[^\\w\\s]','')\n",
        "df['french'] = df['french'].str.replace('[^\\w\\s]','')"
      ]
    },
    {
      "cell_type": "markdown",
      "metadata": {
        "id": "0C1qsC9LxZPb"
      },
      "source": [
        "Make sure that the punctuation is removed by printing the example that you printed earlier."
      ]
    },
    {
      "cell_type": "code",
      "execution_count": 10,
      "metadata": {
        "colab": {
          "base_uri": "https://localhost:8080/"
        },
        "id": "T80tiWxe84G7",
        "outputId": "a2dc0a75-0adc-45e1-a126-5db99cacf7ea"
      },
      "outputs": [
        {
          "name": "stdout",
          "output_type": "stream",
          "text": [
            "English: new jersey is sometimes quiet during autumn and it is snowy in april \n",
            "French: new jersey est parfois calme pendant l automne et il est neigeux en avril \n"
          ]
        }
      ],
      "source": [
        "print(\"English: \" + df['english'][0] + \"\\nFrench: \" + df['french'][0])"
      ]
    },
    {
      "cell_type": "markdown",
      "metadata": {
        "id": "ZuFNjoBAx4oN"
      },
      "source": [
        "## Exploring the Data"
      ]
    },
    {
      "cell_type": "markdown",
      "metadata": {
        "id": "ATfefzPExi2k"
      },
      "source": [
        "Add a column **ENG Length** to the dataset that shows how many words does a sentence contain, and do the same for french in a column called **FR Length**"
      ]
    },
    {
      "cell_type": "code",
      "execution_count": 11,
      "metadata": {
        "id": "q4_BJW3UOMjV"
      },
      "outputs": [],
      "source": [
        "def get_length(text):\n",
        "  return len(text.split())"
      ]
    },
    {
      "cell_type": "code",
      "execution_count": 12,
      "metadata": {
        "id": "Dakeo81s352S"
      },
      "outputs": [],
      "source": [
        "df['ENG Length'] = df['english'].apply(get_length)\n",
        "df['FR Length'] = df['french'].apply(get_length)"
      ]
    },
    {
      "cell_type": "code",
      "execution_count": 13,
      "metadata": {
        "colab": {
          "base_uri": "https://localhost:8080/",
          "height": 206
        },
        "id": "49keasjaPaaK",
        "outputId": "4eec28c2-caba-41a2-c969-126a886c5608"
      },
      "outputs": [
        {
          "data": {
            "text/html": [
              "\n",
              "  <div id=\"df-ec891d3d-584e-4388-aff2-7d25147ba0c9\">\n",
              "    <div class=\"colab-df-container\">\n",
              "      <div>\n",
              "<style scoped>\n",
              "    .dataframe tbody tr th:only-of-type {\n",
              "        vertical-align: middle;\n",
              "    }\n",
              "\n",
              "    .dataframe tbody tr th {\n",
              "        vertical-align: top;\n",
              "    }\n",
              "\n",
              "    .dataframe thead th {\n",
              "        text-align: right;\n",
              "    }\n",
              "</style>\n",
              "<table border=\"1\" class=\"dataframe\">\n",
              "  <thead>\n",
              "    <tr style=\"text-align: right;\">\n",
              "      <th></th>\n",
              "      <th>english</th>\n",
              "      <th>french</th>\n",
              "      <th>ENG Length</th>\n",
              "      <th>FR Length</th>\n",
              "    </tr>\n",
              "  </thead>\n",
              "  <tbody>\n",
              "    <tr>\n",
              "      <th>0</th>\n",
              "      <td>new jersey is sometimes quiet during autumn an...</td>\n",
              "      <td>new jersey est parfois calme pendant l automne...</td>\n",
              "      <td>13</td>\n",
              "      <td>14</td>\n",
              "    </tr>\n",
              "    <tr>\n",
              "      <th>1</th>\n",
              "      <td>the united states is usually chilly during jul...</td>\n",
              "      <td>les étatsunis est généralement froid en juille...</td>\n",
              "      <td>15</td>\n",
              "      <td>13</td>\n",
              "    </tr>\n",
              "    <tr>\n",
              "      <th>2</th>\n",
              "      <td>california is usually quiet during march and i...</td>\n",
              "      <td>california est généralement calme en mars et i...</td>\n",
              "      <td>13</td>\n",
              "      <td>13</td>\n",
              "    </tr>\n",
              "    <tr>\n",
              "      <th>3</th>\n",
              "      <td>the united states is sometimes mild during jun...</td>\n",
              "      <td>les étatsunis est parfois légère en juin et il...</td>\n",
              "      <td>14</td>\n",
              "      <td>13</td>\n",
              "    </tr>\n",
              "    <tr>\n",
              "      <th>4</th>\n",
              "      <td>your least liked fruit is the grape but my lea...</td>\n",
              "      <td>votre moins aimé fruit est le raisin mais mon ...</td>\n",
              "      <td>14</td>\n",
              "      <td>14</td>\n",
              "    </tr>\n",
              "  </tbody>\n",
              "</table>\n",
              "</div>\n",
              "      <button class=\"colab-df-convert\" onclick=\"convertToInteractive('df-ec891d3d-584e-4388-aff2-7d25147ba0c9')\"\n",
              "              title=\"Convert this dataframe to an interactive table.\"\n",
              "              style=\"display:none;\">\n",
              "        \n",
              "  <svg xmlns=\"http://www.w3.org/2000/svg\" height=\"24px\"viewBox=\"0 0 24 24\"\n",
              "       width=\"24px\">\n",
              "    <path d=\"M0 0h24v24H0V0z\" fill=\"none\"/>\n",
              "    <path d=\"M18.56 5.44l.94 2.06.94-2.06 2.06-.94-2.06-.94-.94-2.06-.94 2.06-2.06.94zm-11 1L8.5 8.5l.94-2.06 2.06-.94-2.06-.94L8.5 2.5l-.94 2.06-2.06.94zm10 10l.94 2.06.94-2.06 2.06-.94-2.06-.94-.94-2.06-.94 2.06-2.06.94z\"/><path d=\"M17.41 7.96l-1.37-1.37c-.4-.4-.92-.59-1.43-.59-.52 0-1.04.2-1.43.59L10.3 9.45l-7.72 7.72c-.78.78-.78 2.05 0 2.83L4 21.41c.39.39.9.59 1.41.59.51 0 1.02-.2 1.41-.59l7.78-7.78 2.81-2.81c.8-.78.8-2.07 0-2.86zM5.41 20L4 18.59l7.72-7.72 1.47 1.35L5.41 20z\"/>\n",
              "  </svg>\n",
              "      </button>\n",
              "      \n",
              "  <style>\n",
              "    .colab-df-container {\n",
              "      display:flex;\n",
              "      flex-wrap:wrap;\n",
              "      gap: 12px;\n",
              "    }\n",
              "\n",
              "    .colab-df-convert {\n",
              "      background-color: #E8F0FE;\n",
              "      border: none;\n",
              "      border-radius: 50%;\n",
              "      cursor: pointer;\n",
              "      display: none;\n",
              "      fill: #1967D2;\n",
              "      height: 32px;\n",
              "      padding: 0 0 0 0;\n",
              "      width: 32px;\n",
              "    }\n",
              "\n",
              "    .colab-df-convert:hover {\n",
              "      background-color: #E2EBFA;\n",
              "      box-shadow: 0px 1px 2px rgba(60, 64, 67, 0.3), 0px 1px 3px 1px rgba(60, 64, 67, 0.15);\n",
              "      fill: #174EA6;\n",
              "    }\n",
              "\n",
              "    [theme=dark] .colab-df-convert {\n",
              "      background-color: #3B4455;\n",
              "      fill: #D2E3FC;\n",
              "    }\n",
              "\n",
              "    [theme=dark] .colab-df-convert:hover {\n",
              "      background-color: #434B5C;\n",
              "      box-shadow: 0px 1px 3px 1px rgba(0, 0, 0, 0.15);\n",
              "      filter: drop-shadow(0px 1px 2px rgba(0, 0, 0, 0.3));\n",
              "      fill: #FFFFFF;\n",
              "    }\n",
              "  </style>\n",
              "\n",
              "      <script>\n",
              "        const buttonEl =\n",
              "          document.querySelector('#df-ec891d3d-584e-4388-aff2-7d25147ba0c9 button.colab-df-convert');\n",
              "        buttonEl.style.display =\n",
              "          google.colab.kernel.accessAllowed ? 'block' : 'none';\n",
              "\n",
              "        async function convertToInteractive(key) {\n",
              "          const element = document.querySelector('#df-ec891d3d-584e-4388-aff2-7d25147ba0c9');\n",
              "          const dataTable =\n",
              "            await google.colab.kernel.invokeFunction('convertToInteractive',\n",
              "                                                     [key], {});\n",
              "          if (!dataTable) return;\n",
              "\n",
              "          const docLinkHtml = 'Like what you see? Visit the ' +\n",
              "            '<a target=\"_blank\" href=https://colab.research.google.com/notebooks/data_table.ipynb>data table notebook</a>'\n",
              "            + ' to learn more about interactive tables.';\n",
              "          element.innerHTML = '';\n",
              "          dataTable['output_type'] = 'display_data';\n",
              "          await google.colab.output.renderOutput(dataTable, element);\n",
              "          const docLink = document.createElement('div');\n",
              "          docLink.innerHTML = docLinkHtml;\n",
              "          element.appendChild(docLink);\n",
              "        }\n",
              "      </script>\n",
              "    </div>\n",
              "  </div>\n",
              "  "
            ],
            "text/plain": [
              "                                             english  \\\n",
              "0  new jersey is sometimes quiet during autumn an...   \n",
              "1  the united states is usually chilly during jul...   \n",
              "2  california is usually quiet during march and i...   \n",
              "3  the united states is sometimes mild during jun...   \n",
              "4  your least liked fruit is the grape but my lea...   \n",
              "\n",
              "                                              french  ENG Length  FR Length  \n",
              "0  new jersey est parfois calme pendant l automne...          13         14  \n",
              "1  les étatsunis est généralement froid en juille...          15         13  \n",
              "2  california est généralement calme en mars et i...          13         13  \n",
              "3  les étatsunis est parfois légère en juin et il...          14         13  \n",
              "4  votre moins aimé fruit est le raisin mais mon ...          14         14  "
            ]
          },
          "execution_count": 13,
          "metadata": {},
          "output_type": "execute_result"
        }
      ],
      "source": [
        "df.head()"
      ]
    },
    {
      "cell_type": "markdown",
      "metadata": {
        "id": "AjQLW0K5xwx1"
      },
      "source": [
        "Visualize the distribution of the lengths of english sentences and french sentences."
      ]
    },
    {
      "cell_type": "code",
      "execution_count": 14,
      "metadata": {
        "colab": {
          "base_uri": "https://localhost:8080/",
          "height": 282
        },
        "id": "_q_UIMJ09L24",
        "outputId": "a726a113-2761-4ec1-9d9b-a7da356be040"
      },
      "outputs": [
        {
          "data": {
            "text/plain": [
              "<matplotlib.axes._subplots.AxesSubplot at 0x7fdbacb22550>"
            ]
          },
          "execution_count": 14,
          "metadata": {},
          "output_type": "execute_result"
        },
        {
          "data": {
            "image/png": "[encoded data removed]",
            "text/plain": [
              "<Figure size 432x288 with 1 Axes>"
            ]
          },
          "metadata": {
            "needs_background": "light"
          },
          "output_type": "display_data"
        }
      ],
      "source": [
        "df['ENG Length'].plot.hist()"
      ]
    },
    {
      "cell_type": "code",
      "execution_count": 15,
      "metadata": {
        "colab": {
          "base_uri": "https://localhost:8080/",
          "height": 282
        },
        "id": "TSn4L7kW9R7g",
        "outputId": "5d6461c5-fc51-4d65-b651-efd3dcfd7e61"
      },
      "outputs": [
        {
          "data": {
            "text/plain": [
              "<matplotlib.axes._subplots.AxesSubplot at 0x7fdb9e3b6990>"
            ]
          },
          "execution_count": 15,
          "metadata": {},
          "output_type": "execute_result"
        },
        {
          "data": {
            "image/png": "[encoded data removed]",
            "text/plain": [
              "<Figure size 432x288 with 1 Axes>"
            ]
          },
          "metadata": {
            "needs_background": "light"
          },
          "output_type": "display_data"
        }
      ],
      "source": [
        "df['FR Length'].plot.hist()"
      ]
    },
    {
      "cell_type": "markdown",
      "metadata": {
        "id": "BDXb2d9ix9DV"
      },
      "source": [
        "Get the maximum length of an english sentence and the maximum length of a french sentence. "
      ]
    },
    {
      "cell_type": "code",
      "execution_count": 16,
      "metadata": {
        "colab": {
          "base_uri": "https://localhost:8080/"
        },
        "id": "BpnBB04U_lHd",
        "outputId": "4a460028-178a-46b4-f117-5824488caf46"
      },
      "outputs": [
        {
          "name": "stdout",
          "output_type": "stream",
          "text": [
            "The max length of english sentence: 15 \n",
            "The max length of french sentence: 21\n"
          ]
        }
      ],
      "source": [
        "eng_max_length = df['ENG Length'].max()\n",
        "fr_max_length = df['FR Length'].max()\n",
        "print(\"The max length of english sentence: {} \\nThe max length of french sentence: {}\".format(eng_max_length, fr_max_length))"
      ]
    },
    {
      "cell_type": "markdown",
      "metadata": {
        "id": "s4s-spsRyGJv"
      },
      "source": [
        "## Preprocessing the Data"
      ]
    },
    {
      "cell_type": "markdown",
      "metadata": {
        "id": "N0ZmIT2GyJMU"
      },
      "source": [
        "In order for the data to be fed to the model, it has to be tokenized and padded. "
      ]
    },
    {
      "cell_type": "markdown",
      "metadata": {
        "id": "R0r9z-eErm9H"
      },
      "source": [
        "#### Tokenization"
      ]
    },
    {
      "cell_type": "markdown",
      "metadata": {
        "id": "814mKDFiymcY"
      },
      "source": [
        "Tokenize the sentences that we have."
      ]
    },
    {
      "cell_type": "code",
      "execution_count": 17,
      "metadata": {
        "id": "aiXlciqFuQzW"
      },
      "outputs": [],
      "source": [
        "from tensorflow.keras.preprocessing.text import Tokenizer\n",
        "\n",
        "eng_token = Tokenizer(filters='', lower = False)\n",
        "eng_token.fit_on_texts(df['english'])\n",
        "eng_tokenized = eng_token.texts_to_sequences(df['english'])\n",
        "\n",
        "fr_token = Tokenizer(filters='', lower = False)\n",
        "fr_token.fit_on_texts(df['french'])\n",
        "fr_tokenized = fr_token.texts_to_sequences(df['french'])\n"
      ]
    },
    {
      "cell_type": "markdown",
      "metadata": {
        "id": "aUN01jDXys9B"
      },
      "source": [
        "**How many unique words do we have in english and in french?**"
      ]
    },
    {
      "cell_type": "code",
      "execution_count": 18,
      "metadata": {
        "colab": {
          "base_uri": "https://localhost:8080/"
        },
        "id": "1WahkdzKvIlO",
        "outputId": "1d65ff46-f78f-4afe-b196-70f4ebf84587"
      },
      "outputs": [
        {
          "name": "stdout",
          "output_type": "stream",
          "text": [
            "English unique words: 200 \n",
            "French unique words: 346\n"
          ]
        }
      ],
      "source": [
        "eng_vocab = len(eng_token.word_index)+1\n",
        "fr_vocab = len(fr_token.word_index)+1\n",
        "print(\"English unique words: {} \\nFrench unique words: {}\".format(eng_vocab, fr_vocab))"
      ]
    },
    {
      "cell_type": "markdown",
      "metadata": {
        "id": "g0C2RJjArtJd"
      },
      "source": [
        "#### Padding"
      ]
    },
    {
      "cell_type": "markdown",
      "metadata": {
        "id": "hRXayRzVzQD4"
      },
      "source": [
        "Perform padding on the sequences that we have."
      ]
    },
    {
      "cell_type": "code",
      "execution_count": 19,
      "metadata": {
        "id": "oNdO9EZrxvmN"
      },
      "outputs": [],
      "source": [
        "from tensorflow.keras.preprocessing.sequence import pad_sequences\n",
        "eng_padded = pad_sequences(eng_tokenized, maxlen=eng_max_length, padding='post')\n",
        "\n",
        "fr_padded = pad_sequences(fr_tokenized, maxlen=fr_max_length, padding='post')"
      ]
    },
    {
      "cell_type": "code",
      "execution_count": 20,
      "metadata": {
        "colab": {
          "base_uri": "https://localhost:8080/"
        },
        "id": "0WVJbEVR1Lcl",
        "outputId": "d1109b20-85e5-4b00-8df4-5e0571a1e5f6"
      },
      "outputs": [
        {
          "name": "stdout",
          "output_type": "stream",
          "text": [
            "English: (137860, 15) \n",
            "French: (137860, 21)\n"
          ]
        }
      ],
      "source": [
        "print ('English: {} \\nFrench: {}'.format(eng_padded.shape, fr_padded.shape))"
      ]
    },
    {
      "cell_type": "markdown",
      "metadata": {
        "id": "JxvvVU3ezUHR"
      },
      "source": [
        "## Modeling"
      ]
    },
    {
      "cell_type": "markdown",
      "metadata": {
        "id": "FEKujJUEzVux"
      },
      "source": [
        "After preprrocessing the data, we can build our model. Start by building a baseline architecture relying on one directional RNNs, LSTMs, or GRUs. It will be good to lookup how to build Seq2Seq models, there are some new layers that will help you like RepeatVector and TimeDistributed."
      ]
    },
    {
      "cell_type": "code",
      "execution_count": 24,
      "metadata": {
        "colab": {
          "base_uri": "https://localhost:8080/"
        },
        "id": "9oydzHkr3zDC",
        "outputId": "22c04f42-789c-4ce5-baf3-6494b00a6675"
      },
      "outputs": [
        {
          "name": "stdout",
          "output_type": "stream",
          "text": [
            "Model: \"sequential_3\"\n",
            "_________________________________________________________________\n",
            " Layer (type)                Output Shape              Param #   \n",
            "=================================================================\n",
            " embedding_3 (Embedding)     (None, 15, 128)           25600     \n",
            "                                                                 \n",
            " lstm_6 (LSTM)               (None, 256)               394240    \n",
            "                                                                 \n",
            " repeat_vector_3 (RepeatVect  (None, 21, 256)          0         \n",
            " or)                                                             \n",
            "                                                                 \n",
            " lstm_7 (LSTM)               (None, 21, 256)           525312    \n",
            "                                                                 \n",
            " time_distributed_3 (TimeDis  (None, 21, 346)          88922     \n",
            " tributed)                                                       \n",
            "                                                                 \n",
            "=================================================================\n",
            "Total params: 1,034,074\n",
            "Trainable params: 1,034,074\n",
            "Non-trainable params: 0\n",
            "_________________________________________________________________\n"
          ]
        }
      ],
      "source": [
        "from tensorflow.keras.models import Sequential\n",
        "from tensorflow.keras.layers import Embedding, LSTM, Dense, RepeatVector, TimeDistributed\n",
        "\n",
        "model = Sequential()\n",
        "model.add(Embedding(eng_vocab, 128,  input_length=eng_max_length,mask_zero=True))\n",
        "model.add(LSTM(256))\n",
        "model.add(RepeatVector(fr_max_length))\n",
        "model.add(LSTM(256,  return_sequences=True))\n",
        "model.add(TimeDistributed(Dense(fr_vocab, activation='softmax'))) \n",
        "\n",
        "model.compile(optimizer='adam', loss='sparse_categorical_crossentropy',metrics='accuracy')\n",
        "\n",
        "model.summary()"
      ]
    },
    {
      "cell_type": "markdown",
      "metadata": {
        "id": "aP10HtNBzpT0"
      },
      "source": [
        "Compile and train the model. \n",
        "**FYI:** While specifying the architecture of your model and the number of epochs for training, keeep in your mind that your model might take A LOT of time to train."
      ]
    },
    {
      "cell_type": "code",
      "execution_count": 25,
      "metadata": {
        "colab": {
          "base_uri": "https://localhost:8080/"
        },
        "id": "lWw4nBNIFp9D",
        "outputId": "0f946e53-337a-4742-9c01-3e803e4d65d7"
      },
      "outputs": [
        {
          "name": "stdout",
          "output_type": "stream",
          "text": [
            "Epoch 1/20\n",
            "216/216 [==============================] - 19s 37ms/step - loss: 2.5526 - accuracy: 0.4861 - val_loss: 2.0572 - val_accuracy: 0.5161\n",
            "Epoch 2/20\n",
            "216/216 [==============================] - 6s 30ms/step - loss: 1.6201 - accuracy: 0.5888 - val_loss: 1.4229 - val_accuracy: 0.6163\n",
            "Epoch 3/20\n",
            "216/216 [==============================] - 6s 30ms/step - loss: 1.2790 - accuracy: 0.6383 - val_loss: 1.1196 - val_accuracy: 0.6731\n",
            "Epoch 4/20\n",
            "216/216 [==============================] - 6s 30ms/step - loss: 1.0121 - accuracy: 0.7010 - val_loss: 0.9187 - val_accuracy: 0.7265\n",
            "Epoch 5/20\n",
            "216/216 [==============================] - 7s 30ms/step - loss: 0.8431 - accuracy: 0.7492 - val_loss: 0.7677 - val_accuracy: 0.7757\n",
            "Epoch 6/20\n",
            "216/216 [==============================] - 7s 31ms/step - loss: 0.7139 - accuracy: 0.7898 - val_loss: 0.6996 - val_accuracy: 0.7918\n",
            "Epoch 7/20\n",
            "216/216 [==============================] - 7s 31ms/step - loss: 0.6139 - accuracy: 0.8200 - val_loss: 0.5683 - val_accuracy: 0.8331\n",
            "Epoch 8/20\n",
            "216/216 [==============================] - 7s 31ms/step - loss: 0.5222 - accuracy: 0.8452 - val_loss: 0.4875 - val_accuracy: 0.8560\n",
            "Epoch 9/20\n",
            "216/216 [==============================] - 7s 31ms/step - loss: 0.4444 - accuracy: 0.8670 - val_loss: 0.4140 - val_accuracy: 0.8761\n",
            "Epoch 10/20\n",
            "216/216 [==============================] - 7s 31ms/step - loss: 0.3786 - accuracy: 0.8877 - val_loss: 0.3720 - val_accuracy: 0.8890\n",
            "Epoch 11/20\n",
            "216/216 [==============================] - 7s 30ms/step - loss: 0.3196 - accuracy: 0.9075 - val_loss: 0.3023 - val_accuracy: 0.9147\n",
            "Epoch 12/20\n",
            "216/216 [==============================] - 7s 30ms/step - loss: 0.2691 - accuracy: 0.9244 - val_loss: 0.2572 - val_accuracy: 0.9279\n",
            "Epoch 13/20\n",
            "216/216 [==============================] - 7s 30ms/step - loss: 0.2264 - accuracy: 0.9370 - val_loss: 0.2113 - val_accuracy: 0.9415\n",
            "Epoch 14/20\n",
            "216/216 [==============================] - 7s 30ms/step - loss: 0.1900 - accuracy: 0.9475 - val_loss: 0.1909 - val_accuracy: 0.9472\n",
            "Epoch 15/20\n",
            "216/216 [==============================] - 7s 30ms/step - loss: 0.1693 - accuracy: 0.9527 - val_loss: 0.1731 - val_accuracy: 0.9512\n",
            "Epoch 16/20\n",
            "216/216 [==============================] - 7s 30ms/step - loss: 0.1536 - accuracy: 0.9563 - val_loss: 0.1465 - val_accuracy: 0.9585\n",
            "Epoch 17/20\n",
            "216/216 [==============================] - 7s 30ms/step - loss: 0.1329 - accuracy: 0.9622 - val_loss: 0.1388 - val_accuracy: 0.9604\n",
            "Epoch 18/20\n",
            "216/216 [==============================] - 7s 30ms/step - loss: 0.1196 - accuracy: 0.9654 - val_loss: 0.1327 - val_accuracy: 0.9614\n",
            "Epoch 19/20\n",
            "216/216 [==============================] - 7s 31ms/step - loss: 0.1149 - accuracy: 0.9666 - val_loss: 0.1216 - val_accuracy: 0.9644\n",
            "Epoch 20/20\n",
            "216/216 [==============================] - 7s 30ms/step - loss: 0.1008 - accuracy: 0.9707 - val_loss: 0.1280 - val_accuracy: 0.9632\n"
          ]
        }
      ],
      "source": [
        "from keras.callbacks import ModelCheckpoint, EarlyStopping\n",
        "\n",
        "early_stop = EarlyStopping(monitor = 'val_accuracy', patience = 10)\n",
        "final_model = model.fit(eng_padded, fr_padded, epochs=20, batch_size=512, validation_split = 0.2, callbacks=[early_stop])"
      ]
    },
    {
      "cell_type": "code",
      "execution_count": 26,
      "metadata": {
        "colab": {
          "base_uri": "https://localhost:8080/",
          "height": 428
        },
        "id": "SAx1Jt6WHe7u",
        "outputId": "618ee753-6b83-47e7-fbbf-52e162ca61fb"
      },
      "outputs": [
        {
          "data": {
            "image/png": "[encoded data removed]",
            "text/plain": [
              "<Figure size 720x504 with 1 Axes>"
            ]
          },
          "metadata": {
            "needs_background": "light"
          },
          "output_type": "display_data"
        }
      ],
      "source": [
        "import matplotlib.pyplot as plt\n",
        "plt.figure(figsize=(10,7))\n",
        "a, = plt.plot(final_model.history['loss'],label='Training Loss')\n",
        "b, = plt.plot(final_model.history['val_loss'],label='Validation Loss')\n",
        "plt.legend(handles=[a,b])\n",
        "plt.show()"
      ]
    },
    {
      "cell_type": "markdown",
      "metadata": {
        "id": "9UoEcxyJztiQ"
      },
      "source": [
        "Define a function that gets an input sentence in english and gives the output sentence in the french language."
      ]
    },
    {
      "cell_type": "code",
      "execution_count": 27,
      "metadata": {
        "id": "XlgVApmtrHNI"
      },
      "outputs": [],
      "source": [
        "def translate(input, tokenizer):\n",
        "    input = [input]\n",
        "    test_tokenized = eng_token.texts_to_sequences(input)\n",
        "    test_padded = pad_sequences(test_tokenized, maxlen=eng_max_length, padding='post')\n",
        "\n",
        "    predictions = model.predict(test_padded)[0]\n",
        "\n",
        "    index_to_words = {id: word for word, id in tokenizer.word_index.items()}\n",
        "    index_to_words[0] = ''\n",
        "    return ' '.join([index_to_words[prediction] for prediction in np.argmax(predictions, 1)])\n"
      ]
    },
    {
      "cell_type": "markdown",
      "metadata": {
        "id": "XUQIcAjWz3bt"
      },
      "source": [
        "Test the following sentence"
      ]
    },
    {
      "cell_type": "code",
      "execution_count": 28,
      "metadata": {
        "colab": {
          "base_uri": "https://localhost:8080/"
        },
        "id": "fDmNqnZIQMko",
        "outputId": "e75df59d-f81d-44d7-f12e-a1c41b6d465e"
      },
      "outputs": [
        {
          "name": "stdout",
          "output_type": "stream",
          "text": [
            "English: she is driving the truck\n",
            "French: elle conduit le camion\n",
            "Predicted: elle conduit le camion vert rouillé               \n"
          ]
        }
      ],
      "source": [
        "input = \"she is driving the truck\"\n",
        "\n",
        "print('English: '+input)\n",
        "print('French: elle conduit le camion')\n",
        "print('Predicted: '+translate(input, fr_token))"
      ]
    },
    {
      "cell_type": "markdown",
      "metadata": {
        "id": "wdI2XhaBz6CN"
      },
      "source": [
        "**Improve the model by modifying the architecture to take into account bidirectionality which is very useful in Machine Translation.**\n",
        "\n",
        "Create a new model called model2"
      ]
    },
    {
      "cell_type": "code",
      "execution_count": 29,
      "metadata": {
        "colab": {
          "base_uri": "https://localhost:8080/"
        },
        "id": "NjZzhmhO3TSF",
        "outputId": "4fdc3246-250c-4f5b-8a91-1608a27fad12"
      },
      "outputs": [
        {
          "name": "stdout",
          "output_type": "stream",
          "text": [
            "Model: \"sequential_4\"\n",
            "_________________________________________________________________\n",
            " Layer (type)                Output Shape              Param #   \n",
            "=================================================================\n",
            " embedding_4 (Embedding)     (None, 15, 128)           25600     \n",
            "                                                                 \n",
            " bidirectional (Bidirectiona  (None, 512)              788480    \n",
            " l)                                                              \n",
            "                                                                 \n",
            " repeat_vector_4 (RepeatVect  (None, 21, 512)          0         \n",
            " or)                                                             \n",
            "                                                                 \n",
            " bidirectional_1 (Bidirectio  (None, 21, 512)          1574912   \n",
            " nal)                                                            \n",
            "                                                                 \n",
            " time_distributed_4 (TimeDis  (None, 21, 346)          177498    \n",
            " tributed)                                                       \n",
            "                                                                 \n",
            "=================================================================\n",
            "Total params: 2,566,490\n",
            "Trainable params: 2,566,490\n",
            "Non-trainable params: 0\n",
            "_________________________________________________________________\n"
          ]
        }
      ],
      "source": [
        "from tensorflow.keras.models import Sequential\n",
        "from tensorflow.keras.layers import Embedding, LSTM, Dense, RepeatVector, TimeDistributed, Bidirectional\n",
        "\n",
        "model2 = Sequential()\n",
        "model2.add(Embedding(eng_vocab, 128, input_length=eng_max_length,mask_zero=True))\n",
        "model2.add(Bidirectional(LSTM(256), merge_mode='concat'))\n",
        "model2.add(RepeatVector(fr_max_length))\n",
        "model2.add(Bidirectional(LSTM(256,  return_sequences=True), merge_mode='concat'))\n",
        "model2.add(TimeDistributed(Dense(fr_vocab, activation='softmax')))\n",
        "\n",
        "model2.compile(optimizer='adam', loss='sparse_categorical_crossentropy',metrics='accuracy')\n",
        "\n",
        "model2.summary()"
      ]
    },
    {
      "cell_type": "markdown",
      "metadata": {
        "id": "EHDvxt9L0C21"
      },
      "source": [
        "compile and train your new model."
      ]
    },
    {
      "cell_type": "code",
      "execution_count": 31,
      "metadata": {
        "colab": {
          "base_uri": "https://localhost:8080/"
        },
        "id": "iK1QvVmaTWI2",
        "outputId": "dcc68bee-9f0e-4d95-c0d2-dd3dc4a6978e"
      },
      "outputs": [
        {
          "name": "stdout",
          "output_type": "stream",
          "text": [
            "Epoch 1/50\n",
            "189/189 [==============================] - 17s 90ms/step - loss: 2.1674 - accuracy: 0.5222 - val_loss: 1.5127 - val_accuracy: 0.5944\n",
            "Epoch 2/50\n",
            "189/189 [==============================] - 13s 70ms/step - loss: 1.2523 - accuracy: 0.6614 - val_loss: 1.0740 - val_accuracy: 0.7051\n",
            "Epoch 3/50\n",
            "189/189 [==============================] - 13s 70ms/step - loss: 0.9338 - accuracy: 0.7335 - val_loss: 0.8051 - val_accuracy: 0.7665\n",
            "Epoch 4/50\n",
            "189/189 [==============================] - 13s 68ms/step - loss: 0.7015 - accuracy: 0.7952 - val_loss: 0.5961 - val_accuracy: 0.8254\n",
            "Epoch 5/50\n",
            "189/189 [==============================] - 13s 69ms/step - loss: 0.5112 - accuracy: 0.8487 - val_loss: 0.4300 - val_accuracy: 0.8760\n",
            "Epoch 6/50\n",
            "189/189 [==============================] - 13s 69ms/step - loss: 0.3714 - accuracy: 0.8920 - val_loss: 0.3289 - val_accuracy: 0.9057\n",
            "Epoch 7/50\n",
            "189/189 [==============================] - 13s 70ms/step - loss: 0.2828 - accuracy: 0.9186 - val_loss: 0.2603 - val_accuracy: 0.9246\n",
            "Epoch 8/50\n",
            "189/189 [==============================] - 13s 70ms/step - loss: 0.2299 - accuracy: 0.9332 - val_loss: 0.2200 - val_accuracy: 0.9362\n",
            "Epoch 9/50\n",
            "189/189 [==============================] - 13s 69ms/step - loss: 0.1886 - accuracy: 0.9450 - val_loss: 0.1849 - val_accuracy: 0.9462\n",
            "Epoch 10/50\n",
            "189/189 [==============================] - 13s 69ms/step - loss: 0.1613 - accuracy: 0.9528 - val_loss: 0.1554 - val_accuracy: 0.9543\n",
            "Epoch 11/50\n",
            "189/189 [==============================] - 13s 69ms/step - loss: 0.1386 - accuracy: 0.9591 - val_loss: 0.1461 - val_accuracy: 0.9576\n",
            "Epoch 12/50\n",
            "189/189 [==============================] - 13s 69ms/step - loss: 0.1217 - accuracy: 0.9637 - val_loss: 0.1316 - val_accuracy: 0.9604\n",
            "Epoch 13/50\n",
            "189/189 [==============================] - 13s 69ms/step - loss: 0.1112 - accuracy: 0.9666 - val_loss: 0.1198 - val_accuracy: 0.9641\n",
            "Epoch 14/50\n",
            "189/189 [==============================] - 13s 69ms/step - loss: 0.1001 - accuracy: 0.9700 - val_loss: 0.1113 - val_accuracy: 0.9670\n",
            "Epoch 15/50\n",
            "189/189 [==============================] - 13s 69ms/step - loss: 0.0891 - accuracy: 0.9733 - val_loss: 0.1041 - val_accuracy: 0.9692\n",
            "Epoch 16/50\n",
            "189/189 [==============================] - 13s 69ms/step - loss: 0.0818 - accuracy: 0.9753 - val_loss: 0.1141 - val_accuracy: 0.9654\n",
            "Epoch 17/50\n",
            "189/189 [==============================] - 13s 69ms/step - loss: 0.0756 - accuracy: 0.9771 - val_loss: 0.1074 - val_accuracy: 0.9675\n",
            "Epoch 18/50\n",
            "189/189 [==============================] - 13s 69ms/step - loss: 0.0670 - accuracy: 0.9799 - val_loss: 0.0894 - val_accuracy: 0.9738\n",
            "Epoch 19/50\n",
            "189/189 [==============================] - 13s 69ms/step - loss: 0.0632 - accuracy: 0.9809 - val_loss: 0.0854 - val_accuracy: 0.9754\n",
            "Epoch 20/50\n",
            "189/189 [==============================] - 13s 69ms/step - loss: 0.0619 - accuracy: 0.9814 - val_loss: 0.0821 - val_accuracy: 0.9759\n",
            "Epoch 21/50\n",
            "189/189 [==============================] - 13s 69ms/step - loss: 0.0498 - accuracy: 0.9851 - val_loss: 0.0762 - val_accuracy: 0.9774\n",
            "Epoch 22/50\n",
            "189/189 [==============================] - 13s 70ms/step - loss: 0.0542 - accuracy: 0.9840 - val_loss: 0.1247 - val_accuracy: 0.9618\n",
            "Epoch 23/50\n",
            "189/189 [==============================] - 13s 69ms/step - loss: 0.0580 - accuracy: 0.9825 - val_loss: 0.0762 - val_accuracy: 0.9783\n",
            "Epoch 24/50\n",
            "189/189 [==============================] - 13s 69ms/step - loss: 0.0405 - accuracy: 0.9879 - val_loss: 0.0823 - val_accuracy: 0.9772\n",
            "Epoch 25/50\n",
            "189/189 [==============================] - 13s 69ms/step - loss: 0.0384 - accuracy: 0.9885 - val_loss: 0.0733 - val_accuracy: 0.9791\n",
            "Epoch 26/50\n",
            "189/189 [==============================] - 13s 69ms/step - loss: 0.0324 - accuracy: 0.9904 - val_loss: 0.0776 - val_accuracy: 0.9782\n",
            "Epoch 27/50\n",
            "189/189 [==============================] - 13s 69ms/step - loss: 0.0381 - accuracy: 0.9886 - val_loss: 0.0826 - val_accuracy: 0.9764\n",
            "Epoch 28/50\n",
            "189/189 [==============================] - 13s 69ms/step - loss: 0.0351 - accuracy: 0.9894 - val_loss: 0.0761 - val_accuracy: 0.9786\n",
            "Epoch 29/50\n",
            "189/189 [==============================] - 13s 69ms/step - loss: 0.0286 - accuracy: 0.9916 - val_loss: 0.0712 - val_accuracy: 0.9805\n",
            "Epoch 30/50\n",
            "189/189 [==============================] - 13s 69ms/step - loss: 0.0284 - accuracy: 0.9916 - val_loss: 0.0721 - val_accuracy: 0.9807\n",
            "Epoch 31/50\n",
            "189/189 [==============================] - 13s 69ms/step - loss: 0.0292 - accuracy: 0.9914 - val_loss: 0.0994 - val_accuracy: 0.9739\n",
            "Epoch 32/50\n",
            "189/189 [==============================] - 13s 69ms/step - loss: 0.0286 - accuracy: 0.9915 - val_loss: 0.0729 - val_accuracy: 0.9808\n",
            "Epoch 33/50\n",
            "189/189 [==============================] - 13s 69ms/step - loss: 0.0244 - accuracy: 0.9929 - val_loss: 0.0731 - val_accuracy: 0.9814\n",
            "Epoch 34/50\n",
            "189/189 [==============================] - 13s 69ms/step - loss: 0.0210 - accuracy: 0.9938 - val_loss: 0.0690 - val_accuracy: 0.9825\n",
            "Epoch 35/50\n",
            "189/189 [==============================] - 13s 69ms/step - loss: 0.0289 - accuracy: 0.9916 - val_loss: 0.0833 - val_accuracy: 0.9778\n",
            "Epoch 36/50\n",
            "189/189 [==============================] - 13s 69ms/step - loss: 0.0280 - accuracy: 0.9917 - val_loss: 0.0792 - val_accuracy: 0.9798\n",
            "Epoch 37/50\n",
            "189/189 [==============================] - 13s 69ms/step - loss: 0.0227 - accuracy: 0.9934 - val_loss: 0.0705 - val_accuracy: 0.9824\n",
            "Epoch 38/50\n",
            "189/189 [==============================] - 13s 69ms/step - loss: 0.0143 - accuracy: 0.9961 - val_loss: 0.0718 - val_accuracy: 0.9824\n",
            "Epoch 39/50\n",
            "189/189 [==============================] - 13s 69ms/step - loss: 0.0131 - accuracy: 0.9964 - val_loss: 0.0748 - val_accuracy: 0.9823\n",
            "Epoch 40/50\n",
            "189/189 [==============================] - 13s 69ms/step - loss: 0.0111 - accuracy: 0.9969 - val_loss: 0.0703 - val_accuracy: 0.9837\n",
            "Epoch 41/50\n",
            "189/189 [==============================] - 13s 69ms/step - loss: 0.0103 - accuracy: 0.9973 - val_loss: 0.0676 - val_accuracy: 0.9844\n",
            "Epoch 42/50\n",
            "189/189 [==============================] - 13s 69ms/step - loss: 0.0192 - accuracy: 0.9943 - val_loss: 0.0839 - val_accuracy: 0.9801\n",
            "Epoch 43/50\n",
            "189/189 [==============================] - 13s 69ms/step - loss: 0.0288 - accuracy: 0.9915 - val_loss: 0.0822 - val_accuracy: 0.9803\n",
            "Epoch 44/50\n",
            "189/189 [==============================] - 13s 69ms/step - loss: 0.0212 - accuracy: 0.9938 - val_loss: 0.0727 - val_accuracy: 0.9826\n",
            "Epoch 45/50\n",
            "189/189 [==============================] - 13s 69ms/step - loss: 0.0134 - accuracy: 0.9963 - val_loss: 0.0725 - val_accuracy: 0.9833\n",
            "Epoch 46/50\n",
            "189/189 [==============================] - 13s 69ms/step - loss: 0.0090 - accuracy: 0.9977 - val_loss: 0.0774 - val_accuracy: 0.9833\n",
            "Epoch 47/50\n",
            "189/189 [==============================] - 13s 69ms/step - loss: 0.0245 - accuracy: 0.9934 - val_loss: 0.0898 - val_accuracy: 0.9777\n",
            "Epoch 48/50\n",
            "189/189 [==============================] - 13s 69ms/step - loss: 0.0190 - accuracy: 0.9944 - val_loss: 0.0799 - val_accuracy: 0.9821\n",
            "Epoch 49/50\n",
            "189/189 [==============================] - 13s 69ms/step - loss: 0.0169 - accuracy: 0.9952 - val_loss: 0.0759 - val_accuracy: 0.9831\n",
            "Epoch 50/50\n",
            "189/189 [==============================] - 13s 69ms/step - loss: 0.0108 - accuracy: 0.9971 - val_loss: 0.0755 - val_accuracy: 0.9831\n"
          ]
        }
      ],
      "source": [
        "from keras.callbacks import ModelCheckpoint, EarlyStopping\n",
        "early_stop = EarlyStopping(monitor = 'val_accuracy', patience = 10)\n",
        "final_model2 = model2.fit(eng_padded, fr_padded, epochs=50, batch_size=512, validation_split = 0.3, callbacks=[early_stop])"
      ]
    },
    {
      "cell_type": "code",
      "execution_count": 32,
      "metadata": {
        "colab": {
          "base_uri": "https://localhost:8080/",
          "height": 428
        },
        "id": "jW-TnzMFEUgt",
        "outputId": "3f77f3ca-f99e-46e9-8167-ed6e65a27a94"
      },
      "outputs": [
        {
          "data": {
            "image/png": "[encoded data removed]",
            "text/plain": [
              "<Figure size 720x504 with 1 Axes>"
            ]
          },
          "metadata": {
            "needs_background": "light"
          },
          "output_type": "display_data"
        }
      ],
      "source": [
        "import matplotlib.pyplot as plt\n",
        "plt.figure(figsize=(10,7))\n",
        "a, = plt.plot(final_model2.history['loss'],label='Training Loss')\n",
        "b, = plt.plot(final_model2.history['val_loss'],label='Validation Loss')\n",
        "plt.legend(handles=[a,b])\n",
        "plt.show()"
      ]
    },
    {
      "cell_type": "markdown",
      "metadata": {
        "id": "CkpOI2JI0GBx"
      },
      "source": [
        "Define a new function that relies on your new model to make predictions."
      ]
    },
    {
      "cell_type": "code",
      "execution_count": 1,
      "metadata": {
        "id": "Gulu8OiXTbae"
      },
      "outputs": [],
      "source": [
        "def translate2(input, tokenizer):\n",
        "    input = [input]\n",
        "    test_tokenized = eng_token.texts_to_sequences(input)\n",
        "    test_padded = pad_sequences(test_tokenized, maxlen=eng_max_length, padding='post')\n",
        "\n",
        "    predictions = model2.predict(test_padded)[0]\n",
        "\n",
        "    index_to_words = {id: word for word, id in tokenizer.word_index.items()}\n",
        "    index_to_words[0] = ''\n",
        "    return ' '.join([index_to_words[prediction] for prediction in np.argmax(predictions, 1)])\n"
      ]
    },
    {
      "cell_type": "code",
      "execution_count": null,
      "metadata": {
        "colab": {
          "base_uri": "https://localhost:8080/"
        },
        "id": "8CO0pO6-UAeE",
        "outputId": "466f1648-4acd-491d-f922-ff1fcddc2fe5"
      },
      "outputs": [
        {
          "name": "stdout",
          "output_type": "stream",
          "text": [
            "English: she is driving the truck\n",
            "French: elle conduit le camion\n",
            "Predicted: elle conduit le camion                 \n"
          ]
        }
      ],
      "source": [
        "input = \"she is driving the truck\"\n",
        "\n",
        "print('English: '+input)\n",
        "print('French: elle conduit le camion')\n",
        "print('Predicted: '+translate2(input, fr_token))"
      ]
    }
  ],
  "metadata": {
    "accelerator": "GPU",
    "colab": {
      "collapsed_sections": [],
      "name": "Machine Translation (ENG-FR).ipynb",
      "provenance": []
    },
    "kernelspec": {
      "display_name": "Python 3",
      "name": "python3"
    },
    "language_info": {
      "name": "python"
    }
  },
  "nbformat": 4,
  "nbformat_minor": 0
}
